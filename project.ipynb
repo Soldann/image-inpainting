{
 "cells": [
  {
   "cell_type": "code",
   "execution_count": 115,
   "metadata": {},
   "outputs": [],
   "source": [
    "from PIL import Image\n",
    "import numpy as np\n",
    "import matplotlib.pyplot as plt\n",
    "import os\n",
    "import ipywidgets as widgets\n",
    "from io import BytesIO\n",
    "from ipycanvas import Canvas, hold_canvas, MultiCanvas"
   ]
  },
  {
   "cell_type": "code",
   "execution_count": 181,
   "metadata": {},
   "outputs": [],
   "source": [
    "image_size = 224\n",
    "stroke_size = 5\n",
    "\n",
    "image = np.array([])\n",
    "left_canvas = MultiCanvas(2, width=image_size, height=image_size, sync_image_data=True)\n",
    "right_canvas = Canvas(width=image_size, height=image_size, sync_image_data=True)\n",
    "left_canvas[1].global_alpha=0.5\n",
    "left_canvas[1].sync_image_data=True\n",
    "is_drawing = False\n",
    "is_uploaded = False\n",
    "output = widgets.Output()\n",
    "position = [0, 0]\n",
    "mask = np.array([])\n",
    "\n",
    "def upload_image(change):\n",
    "    with output:\n",
    "        global image, is_uploaded\n",
    "        left_canvas.clear()\n",
    "        image = np.array(Image.open(BytesIO(change.new[0][\"content\"])).crop((0, 0, image_size, image_size)))\n",
    "        left_canvas[0].put_image_data(image)\n",
    "        right_canvas.clear()\n",
    "        is_uploaded = True\n",
    "\n",
    "def paint_on_left(x, y):\n",
    "    if not is_uploaded:\n",
    "        return\n",
    "    with output:\n",
    "        with hold_canvas():\n",
    "            left_canvas[1].stroke_style = \"red\"\n",
    "            left_canvas[1].line_width = stroke_size\n",
    "            if is_drawing:\n",
    "                left_canvas[1].begin_path()\n",
    "                left_canvas[1].move_to(position[0], position[1])\n",
    "                left_canvas[1].line_to(x, y)\n",
    "                left_canvas[1].stroke()\n",
    "                left_canvas[1].close_path()\n",
    "            position[0] = x\n",
    "            position[1] = y\n",
    "\n",
    "def confirm_preview(change):\n",
    "    if not is_uploaded:\n",
    "        return\n",
    "    global image\n",
    "    with hold_canvas():\n",
    "        image = right_canvas.get_image_data().copy()\n",
    "        left_canvas[0].put_image_data(image)\n",
    "        left_canvas[1].clear()\n",
    "        right_canvas.clear()\n",
    "\n",
    "def revert_changes(change):\n",
    "    if not is_uploaded:\n",
    "        return\n",
    "    global mask\n",
    "    with hold_canvas():\n",
    "        left_canvas[1].clear()\n",
    "        mask = np.zeros_like(mask)\n",
    "        right_canvas.clear()\n",
    "\n",
    "def start_drawing(x, y):\n",
    "    if not is_uploaded:\n",
    "        return\n",
    "    global is_drawing\n",
    "    is_drawing = True\n",
    "\n",
    "def stop_drawing(x, y):\n",
    "    if not is_uploaded:\n",
    "        return\n",
    "    with output:\n",
    "        global is_drawing, mask, image\n",
    "        is_drawing = False\n",
    "        mask = left_canvas[1].get_image_data()\n",
    "        mask = mask[:,:,3]!=0\n",
    "        with hold_canvas():\n",
    "            print(image.shape)\n",
    "            image_temp = image.copy()\n",
    "            image_temp[mask,:3] = 0\n",
    "            print(image_temp[mask][:,:3].shape)\n",
    "            right_canvas.put_image_data(image_temp)\n",
    "    \n",
    "def stroke_changed(change):\n",
    "    global stroke_size\n",
    "    stroke_size = change.new\n",
    "\n",
    "def save_result(change):\n",
    "    if not is_uploaded:\n",
    "        return\n",
    "    result = right_canvas.to_file()\n",
    "    with open(\"result.png\", \"wb\") as f:\n",
    "        f.write(result.getbuffer())\n",
    "    print(\"Result saved as result.png\")\n"
   ]
  },
  {
   "cell_type": "code",
   "execution_count": 182,
   "metadata": {
    "scrolled": true
   },
   "outputs": [
    {
     "data": {
      "application/vnd.jupyter.widget-view+json": {
       "model_id": "e841ec5853e540819f2490b969ef5290",
       "version_major": 2,
       "version_minor": 0
      },
      "text/plain": [
       "HBox(children=(MultiCanvas(height=224, image_data=b'\\x89PNG\\r\\n\\x1a\\n\\x00\\x00\\x00\\rIHDR\\x00\\x00\\x00\\xe0\\x00\\x0…"
      ]
     },
     "metadata": {},
     "output_type": "display_data"
    },
    {
     "data": {
      "application/vnd.jupyter.widget-view+json": {
       "model_id": "dff06ff3e0ae44bdadf0e70b5eadf01a",
       "version_major": 2,
       "version_minor": 0
      },
      "text/plain": [
       "IntText(value=5, description='Stroke Size:')"
      ]
     },
     "metadata": {},
     "output_type": "display_data"
    },
    {
     "data": {
      "application/vnd.jupyter.widget-view+json": {
       "model_id": "afa9df169dac428cb92c5fb413f3f492",
       "version_major": 2,
       "version_minor": 0
      },
      "text/plain": [
       "HBox(children=(FileUpload(value=(), accept='image/*', description='Upload'), Button(description='Confirm', sty…"
      ]
     },
     "metadata": {},
     "output_type": "display_data"
    },
    {
     "data": {
      "application/vnd.jupyter.widget-view+json": {
       "model_id": "6c8a658d01f449b481080fd997106482",
       "version_major": 2,
       "version_minor": 0
      },
      "text/plain": [
       "Output()"
      ]
     },
     "metadata": {},
     "output_type": "display_data"
    }
   ],
   "source": [
    "upload_button = widgets.FileUpload(accept=\"image/*\", multiple=False)\n",
    "upload_button.observe(upload_image, names=\"value\")\n",
    "\n",
    "left_canvas.on_mouse_move(paint_on_left)\n",
    "\n",
    "confirm_button = widgets.Button(description=\"Confirm\")\n",
    "confirm_button.on_click(confirm_preview)\n",
    "\n",
    "revert_button = widgets.Button(description=\"Revert\")\n",
    "revert_button.on_click(revert_changes)\n",
    "\n",
    "save_button = widgets.Button(description=\"Save\")\n",
    "save_button.on_click(save_result)\n",
    "\n",
    "stroke_size_change = widgets.IntText(value=stroke_size, description='Stroke Size:', disabled=False)\n",
    "stroke_size_change.observe(stroke_changed, 'value')\n",
    "\n",
    "left_canvas.on_mouse_down(start_drawing)\n",
    "left_canvas.on_mouse_up(stop_drawing)\n",
    "\n",
    "display(widgets.HBox([left_canvas, right_canvas]))\n",
    "display(stroke_size_change)\n",
    "display(widgets.HBox([upload_button, confirm_button, revert_button, save_button]))\n",
    "display(output)"
   ]
  },
  {
   "cell_type": "code",
   "execution_count": null,
   "metadata": {},
   "outputs": [],
   "source": []
  },
  {
   "cell_type": "code",
   "execution_count": null,
   "metadata": {},
   "outputs": [],
   "source": []
  }
 ],
 "metadata": {
  "kernelspec": {
   "display_name": "Python 3 (ipykernel)",
   "language": "python",
   "name": "python3"
  },
  "language_info": {
   "codemirror_mode": {
    "name": "ipython",
    "version": 3
   },
   "file_extension": ".py",
   "mimetype": "text/x-python",
   "name": "python",
   "nbconvert_exporter": "python",
   "pygments_lexer": "ipython3",
   "version": "3.9.13"
  }
 },
 "nbformat": 4,
 "nbformat_minor": 2
}
